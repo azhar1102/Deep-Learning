{
 "cells": [
  {
   "cell_type": "code",
   "execution_count": 64,
   "metadata": {},
   "outputs": [],
   "source": [
    "# importing libraries\n",
    "import tensorflow as tf\n",
    "\n",
    "from keras.models import Sequential\n",
    "from keras.layers import Dense\n",
    "from keras.layers import Conv2D\n",
    "from keras.layers import MaxPool2D\n",
    "from keras.layers import Flatten\n",
    "from keras.layers import Dropout\n",
    "\n",
    "import matplotlib.pyplot as plt\n",
    "import h5py"
   ]
  },
  {
   "cell_type": "code",
   "execution_count": 2,
   "metadata": {},
   "outputs": [],
   "source": [
    "# Loading train and test data\n",
    "(X_train,y_train),(X_test,y_test) = tf.keras.datasets.mnist.load_data()"
   ]
  },
  {
   "cell_type": "code",
   "execution_count": 3,
   "metadata": {},
   "outputs": [
    {
     "data": {
      "text/plain": [
       "(60000, 28, 28)"
      ]
     },
     "execution_count": 3,
     "metadata": {},
     "output_type": "execute_result"
    }
   ],
   "source": [
    "# shape of training data\n",
    "X_train.shape"
   ]
  },
  {
   "cell_type": "markdown",
   "metadata": {},
   "source": [
    "There are 60000 images of shape 28x28 pixels"
   ]
  },
  {
   "cell_type": "code",
   "execution_count": 4,
   "metadata": {},
   "outputs": [
    {
     "data": {
      "text/plain": [
       "(10000, 28, 28)"
      ]
     },
     "execution_count": 4,
     "metadata": {},
     "output_type": "execute_result"
    }
   ],
   "source": [
    "# shape of testing data\n",
    "X_test.shape"
   ]
  },
  {
   "cell_type": "markdown",
   "metadata": {},
   "source": [
    "There are 10000 images of shape 28x28 pixels"
   ]
  },
  {
   "cell_type": "code",
   "execution_count": 5,
   "metadata": {},
   "outputs": [
    {
     "data": {
      "image/png": "[encoded data removed]",
      "text/plain": [
       "<Figure size 432x288 with 1 Axes>"
      ]
     },
     "metadata": {
      "needs_background": "light"
     },
     "output_type": "display_data"
    }
   ],
   "source": [
    "# sample image\n",
    "plt.imshow(X_train[2],cmap='Greys')\n",
    "plt.show()"
   ]
  },
  {
   "cell_type": "code",
   "execution_count": 6,
   "metadata": {},
   "outputs": [
    {
     "name": "stdout",
     "output_type": "stream",
     "text": [
      "Pixels values :\n",
      "Min :  0\n",
      "Max :  255\n"
     ]
    }
   ],
   "source": [
    "# checking the range of pixels\n",
    "print(\"Pixels values :\")\n",
    "print(\"Min : \",X_train[1].min())\n",
    "print(\"Max : \",X_train[1].max())"
   ]
  },
  {
   "cell_type": "code",
   "execution_count": 7,
   "metadata": {},
   "outputs": [],
   "source": [
    "# Reshaping the array of images to 4 Dims to make it work with Keras\n",
    "X_train = X_train.reshape(X_train.shape[0],28,28,1)\n",
    "X_test = X_test.reshape(X_test.shape[0],28,28,1)"
   ]
  },
  {
   "cell_type": "code",
   "execution_count": 8,
   "metadata": {},
   "outputs": [],
   "source": [
    "# Making sure that the values are float so that we can get decimal points after division\n",
    "X_train = X_train.astype('float32')\n",
    "X_test = X_test.astype('float32')"
   ]
  },
  {
   "cell_type": "code",
   "execution_count": 9,
   "metadata": {},
   "outputs": [],
   "source": [
    "# Normalizing by dividing with 255\n",
    "X_train /= 255\n",
    "X_test /= 255"
   ]
  },
  {
   "cell_type": "code",
   "execution_count": 10,
   "metadata": {},
   "outputs": [
    {
     "name": "stdout",
     "output_type": "stream",
     "text": [
      "Pixels values :\n",
      "Min :  0.0\n",
      "Max :  1.0\n"
     ]
    }
   ],
   "source": [
    "# checking the range of pixels\n",
    "print(\"Pixels values :\")\n",
    "print(\"Min : \",X_train[1].min())\n",
    "print(\"Max : \",X_train[1].max())"
   ]
  },
  {
   "cell_type": "code",
   "execution_count": 65,
   "metadata": {},
   "outputs": [],
   "source": [
    "# Instantiating Sequential object \n",
    "classifier = Sequential()"
   ]
  },
  {
   "cell_type": "code",
   "execution_count": 66,
   "metadata": {},
   "outputs": [],
   "source": [
    "# 1st convolution layer\n",
    "classifier.add(Conv2D(filters=8,kernel_size=[3,3],activation='relu',input_shape=(28,28,1)))\n",
    "classifier.add(MaxPool2D(pool_size=(2,2)))"
   ]
  },
  {
   "cell_type": "code",
   "execution_count": 67,
   "metadata": {},
   "outputs": [],
   "source": [
    "# 2nd convolution layer\n",
    "classifier.add(Conv2D(filters=16,kernel_size=[3,3],activation='relu'))\n",
    "classifier.add(MaxPool2D(pool_size=(2,2)))"
   ]
  },
  {
   "cell_type": "code",
   "execution_count": 68,
   "metadata": {},
   "outputs": [],
   "source": [
    "# Flattening\n",
    "classifier.add(Flatten())"
   ]
  },
  {
   "cell_type": "code",
   "execution_count": 69,
   "metadata": {},
   "outputs": [],
   "source": [
    "# Adding Fully Connected NN layers\n",
    "\n",
    "# First hidden layer\n",
    "classifier.add(Dense(64,activation='relu'))\n",
    "Dropout(rate=0.01)\n",
    "# Second hidden layer\n",
    "classifier.add(Dense(128,activation='relu'))\n",
    "Dropout(rate=0.01)\n",
    "\n",
    "# output layer\n",
    "classifier.add(Dense(10,activation='softmax'))"
   ]
  },
  {
   "cell_type": "code",
   "execution_count": 70,
   "metadata": {},
   "outputs": [],
   "source": [
    "# compiling \n",
    "classifier.compile(optimizer='adam',metrics=['accuracy'],loss='sparse_categorical_crossentropy')"
   ]
  },
  {
   "cell_type": "code",
   "execution_count": 71,
   "metadata": {
    "scrolled": false
   },
   "outputs": [
    {
     "name": "stdout",
     "output_type": "stream",
     "text": [
      "Epoch 1/15\n",
      "60000/60000 [==============================] - 20s 333us/step - loss: 0.2057 - accuracy: 0.9368\n",
      "Epoch 2/15\n",
      "60000/60000 [==============================] - 20s 330us/step - loss: 0.0659 - accuracy: 0.9794\n",
      "Epoch 3/15\n",
      "60000/60000 [==============================] - 20s 336us/step - loss: 0.0492 - accuracy: 0.9845\n",
      "Epoch 4/15\n",
      "60000/60000 [==============================] - 19s 318us/step - loss: 0.0392 - accuracy: 0.9876\n",
      "Epoch 5/15\n",
      "60000/60000 [==============================] - 19s 324us/step - loss: 0.0311 - accuracy: 0.9899\n",
      "Epoch 6/15\n",
      "60000/60000 [==============================] - 19s 323us/step - loss: 0.0277 - accuracy: 0.9910\n",
      "Epoch 7/15\n",
      "60000/60000 [==============================] - 19s 322us/step - loss: 0.0226 - accuracy: 0.9925\n",
      "Epoch 8/15\n",
      "60000/60000 [==============================] - 19s 319us/step - loss: 0.0191 - accuracy: 0.9934\n",
      "Epoch 9/15\n",
      "60000/60000 [==============================] - 20s 328us/step - loss: 0.0165 - accuracy: 0.9947\n",
      "Epoch 10/15\n",
      "60000/60000 [==============================] - 21s 346us/step - loss: 0.0141 - accuracy: 0.9952\n",
      "Epoch 11/15\n",
      "60000/60000 [==============================] - 20s 339us/step - loss: 0.0146 - accuracy: 0.9951\n",
      "Epoch 12/15\n",
      "60000/60000 [==============================] - 20s 328us/step - loss: 0.0110 - accuracy: 0.9964\n",
      "Epoch 13/15\n",
      "60000/60000 [==============================] - 20s 327us/step - loss: 0.0119 - accuracy: 0.9961\n",
      "Epoch 14/15\n",
      "60000/60000 [==============================] - 20s 330us/step - loss: 0.0105 - accuracy: 0.9966\n",
      "Epoch 15/15\n",
      "60000/60000 [==============================] - 20s 330us/step - loss: 0.0087 - accuracy: 0.9970\n"
     ]
    },
    {
     "data": {
      "text/plain": [
       "<keras.callbacks.callbacks.History at 0x64e70af28>"
      ]
     },
     "execution_count": 71,
     "metadata": {},
     "output_type": "execute_result"
    }
   ],
   "source": [
    "# Fitting the model\n",
    "classifier.fit(X_train,y_train,epochs=15)"
   ]
  },
  {
   "cell_type": "code",
   "execution_count": 73,
   "metadata": {},
   "outputs": [
    {
     "name": "stdout",
     "output_type": "stream",
     "text": [
      "10000/10000 [==============================] - 1s 102us/step\n"
     ]
    },
    {
     "data": {
      "text/plain": [
       "[0.04667782004012368, 0.9886000156402588]"
      ]
     },
     "execution_count": 73,
     "metadata": {},
     "output_type": "execute_result"
    }
   ],
   "source": [
    "# Evaluating on test set\n",
    "classifier.evaluate(X_test,y_test)"
   ]
  },
  {
   "cell_type": "markdown",
   "metadata": {},
   "source": [
    "With this Model we have acheived 98.8% accuracy on the test set."
   ]
  },
  {
   "cell_type": "code",
   "execution_count": null,
   "metadata": {},
   "outputs": [],
   "source": []
  }
 ],
 "metadata": {
  "kernelspec": {
   "display_name": "Python 3",
   "language": "python",
   "name": "python3"
  },
  "language_info": {
   "codemirror_mode": {
    "name": "ipython",
    "version": 3
   },
   "file_extension": ".py",
   "mimetype": "text/x-python",
   "name": "python",
   "nbconvert_exporter": "python",
   "pygments_lexer": "ipython3",
   "version": "3.7.3"
  }
 },
 "nbformat": 4,
 "nbformat_minor": 2
}
